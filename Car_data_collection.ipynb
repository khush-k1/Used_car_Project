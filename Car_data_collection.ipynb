{
 "cells": [
  {
   "cell_type": "code",
   "execution_count": 1,
   "id": "78ab8c4f",
   "metadata": {},
   "outputs": [
    {
     "name": "stdout",
     "output_type": "stream",
     "text": [
      "Requirement already satisfied: selenium in c:\\users\\dell\\anaconda3\\lib\\site-packages (4.3.0)\n",
      "Requirement already satisfied: trio~=0.17 in c:\\users\\dell\\anaconda3\\lib\\site-packages (from selenium) (0.21.0)\n",
      "Requirement already satisfied: trio-websocket~=0.9 in c:\\users\\dell\\anaconda3\\lib\\site-packages (from selenium) (0.9.2)\n",
      "Requirement already satisfied: urllib3[secure,socks]~=1.26 in c:\\users\\dell\\anaconda3\\lib\\site-packages (from selenium) (1.26.9)\n",
      "Requirement already satisfied: sortedcontainers in c:\\users\\dell\\anaconda3\\lib\\site-packages (from trio~=0.17->selenium) (2.4.0)\n",
      "Requirement already satisfied: outcome in c:\\users\\dell\\anaconda3\\lib\\site-packages (from trio~=0.17->selenium) (1.2.0)\n",
      "Requirement already satisfied: sniffio in c:\\users\\dell\\anaconda3\\lib\\site-packages (from trio~=0.17->selenium) (1.2.0)\n",
      "Requirement already satisfied: cffi>=1.14 in c:\\users\\dell\\anaconda3\\lib\\site-packages (from trio~=0.17->selenium) (1.15.0)\n",
      "Requirement already satisfied: attrs>=19.2.0 in c:\\users\\dell\\anaconda3\\lib\\site-packages (from trio~=0.17->selenium) (21.4.0)\n",
      "Requirement already satisfied: async-generator>=1.9 in c:\\users\\dell\\anaconda3\\lib\\site-packages (from trio~=0.17->selenium) (1.10)\n",
      "Requirement already satisfied: idna in c:\\users\\dell\\anaconda3\\lib\\site-packages (from trio~=0.17->selenium) (3.3)\n",
      "Requirement already satisfied: pycparser in c:\\users\\dell\\anaconda3\\lib\\site-packages (from cffi>=1.14->trio~=0.17->selenium) (2.21)\n",
      "Requirement already satisfied: wsproto>=0.14 in c:\\users\\dell\\anaconda3\\lib\\site-packages (from trio-websocket~=0.9->selenium) (1.1.0)\n",
      "Requirement already satisfied: PySocks!=1.5.7,<2.0,>=1.5.6 in c:\\users\\dell\\anaconda3\\lib\\site-packages (from urllib3[secure,socks]~=1.26->selenium) (1.7.1)\n",
      "Requirement already satisfied: certifi in c:\\users\\dell\\anaconda3\\lib\\site-packages (from urllib3[secure,socks]~=1.26->selenium) (2022.6.15)\n",
      "Requirement already satisfied: cryptography>=1.3.4 in c:\\users\\dell\\anaconda3\\lib\\site-packages (from urllib3[secure,socks]~=1.26->selenium) (3.4.8)\n",
      "Requirement already satisfied: pyOpenSSL>=0.14 in c:\\users\\dell\\anaconda3\\lib\\site-packages (from urllib3[secure,socks]~=1.26->selenium) (21.0.0)\n",
      "Requirement already satisfied: six>=1.5.2 in c:\\users\\dell\\anaconda3\\lib\\site-packages (from pyOpenSSL>=0.14->urllib3[secure,socks]~=1.26->selenium) (1.16.0)\n",
      "Requirement already satisfied: h11<1,>=0.9.0 in c:\\users\\dell\\anaconda3\\lib\\site-packages (from wsproto>=0.14->trio-websocket~=0.9->selenium) (0.13.0)\n"
     ]
    }
   ],
   "source": [
    "!pip install selenium"
   ]
  },
  {
   "cell_type": "code",
   "execution_count": 2,
   "id": "93fc0952",
   "metadata": {},
   "outputs": [],
   "source": [
    "import selenium\n",
    "import pandas as pd\n",
    "from selenium import webdriver\n",
    "import warnings\n",
    "warnings.filterwarnings('ignore')\n",
    "from selenium.common.exceptions import StaleElementReferenceException, NoSuchElementException\n",
    "from selenium.webdriver.common.by import By\n",
    "\n",
    "import time"
   ]
  },
  {
   "cell_type": "code",
   "execution_count": 3,
   "id": "6f020687",
   "metadata": {},
   "outputs": [],
   "source": [
    "driver=webdriver.Chrome(r'C:\\Users\\DELL\\chromedriver_win32\\chromedriver')"
   ]
  },
  {
   "cell_type": "code",
   "execution_count": 4,
   "id": "f4550a77",
   "metadata": {},
   "outputs": [],
   "source": [
    "driver.get(\"https://www.cars24.com/buy-used-cars-delhi-ncr/\")"
   ]
  },
  {
   "cell_type": "code",
   "execution_count": 16,
   "id": "adb032be",
   "metadata": {},
   "outputs": [
    {
     "data": {
      "text/plain": [
       "5740"
      ]
     },
     "execution_count": 16,
     "metadata": {},
     "output_type": "execute_result"
    }
   ],
   "source": [
    "brand_name=[]\n",
    "brand_tag= driver.find_elements(By.CLASS_NAME, \"_3FpCg\")\n",
    "for _ in range(20):\n",
    "    driver.execute_script(\"window.scrollBy(0,1000)\")\n",
    "    time.sleep(5)\n",
    "    for i in brand_tag:\n",
    "        brand_name.append((i.text).split(' ',2)[1])\n",
    "len(brand_name)"
   ]
  },
  {
   "cell_type": "code",
   "execution_count": 17,
   "id": "b2e65ba1",
   "metadata": {},
   "outputs": [
    {
     "data": {
      "text/plain": [
       "5740"
      ]
     },
     "execution_count": 17,
     "metadata": {},
     "output_type": "execute_result"
    }
   ],
   "source": [
    "model=[]\n",
    "for _ in range(20):\n",
    "    driver.execute_script(\"window.scrollBy(0,1000)\")\n",
    "    time.sleep(5)\n",
    "    for i in brand_tag:\n",
    "        model.append((i.text).split(' ', 2)[2])\n",
    "len(model)"
   ]
  },
  {
   "cell_type": "code",
   "execution_count": 18,
   "id": "cd08005f",
   "metadata": {},
   "outputs": [
    {
     "data": {
      "text/plain": [
       "5740"
      ]
     },
     "execution_count": 18,
     "metadata": {},
     "output_type": "execute_result"
    }
   ],
   "source": [
    "variant=[]\n",
    "variant_tag=driver.find_elements(By.CLASS_NAME, \"cvakB\")\n",
    "for _ in range(20):\n",
    "    driver.execute_script(\"window.scrollBy(0,1000)\")\n",
    "    time.sleep(5)\n",
    "    for i in variant_tag:\n",
    "        variant.append((i.text).rsplit(' ',1)[0])\n",
    "len(variant)"
   ]
  },
  {
   "cell_type": "code",
   "execution_count": 10,
   "id": "d781ba7a",
   "metadata": {},
   "outputs": [
    {
     "data": {
      "text/plain": [
       "5740"
      ]
     },
     "execution_count": 10,
     "metadata": {},
     "output_type": "execute_result"
    }
   ],
   "source": [
    "driven_km=[]\n",
    "mile_tag=driver.find_elements(By.XPATH,'//ul[@class= \"bVR0c\"]/li[1]')\n",
    "for _ in range(20):\n",
    "    driver.execute_script(\"window.scrollBy(0,1000)\")\n",
    "    time.sleep(5)\n",
    "    for i in mile_tag:\n",
    "        driven_km.append(i.text)\n",
    "len(driven_km)"
   ]
  },
  {
   "cell_type": "code",
   "execution_count": 11,
   "id": "159bdfdc",
   "metadata": {},
   "outputs": [
    {
     "data": {
      "text/plain": [
       "5740"
      ]
     },
     "execution_count": 11,
     "metadata": {},
     "output_type": "execute_result"
    }
   ],
   "source": [
    "owner=[]\n",
    "owner_tag=driver.find_elements(By.XPATH,'//ul[@class= \"bVR0c\"]/li[2]')\n",
    "for _ in range(20):\n",
    "    driver.execute_script(\"window.scrollBy(0,1000)\")\n",
    "    time.sleep(5)\n",
    "    for i in owner_tag:\n",
    "        owner.append(i.text)\n",
    "len(owner)"
   ]
  },
  {
   "cell_type": "code",
   "execution_count": 12,
   "id": "8ae1ba63",
   "metadata": {},
   "outputs": [
    {
     "data": {
      "text/plain": [
       "5740"
      ]
     },
     "execution_count": 12,
     "metadata": {},
     "output_type": "execute_result"
    }
   ],
   "source": [
    "fuel=[]\n",
    "fuel_tag=driver.find_elements(By.XPATH,'//ul[@class= \"bVR0c\"]/li[3]')\n",
    "for _ in range(20):\n",
    "    driver.execute_script(\"window.scrollBy(0,1000)\")\n",
    "    time.sleep(5)\n",
    "    for i in fuel_tag:\n",
    "        fuel.append(i.text)\n",
    "len(fuel)"
   ]
  },
  {
   "cell_type": "code",
   "execution_count": 19,
   "id": "628c9744",
   "metadata": {},
   "outputs": [
    {
     "data": {
      "text/plain": [
       "5740"
      ]
     },
     "execution_count": 19,
     "metadata": {},
     "output_type": "execute_result"
    }
   ],
   "source": [
    "year=[]\n",
    "for _ in range(20):\n",
    "    driver.execute_script(\"window.scrollBy(0,1000)\")\n",
    "    time.sleep(5)\n",
    "    for i in brand_tag:\n",
    "        year.append((i.text).split()[0])\n",
    "len(year)"
   ]
  },
  {
   "cell_type": "code",
   "execution_count": 21,
   "id": "c89ce36d",
   "metadata": {},
   "outputs": [
    {
     "data": {
      "text/plain": [
       "5740"
      ]
     },
     "execution_count": 21,
     "metadata": {},
     "output_type": "execute_result"
    }
   ],
   "source": [
    "transmission=[]\n",
    "for _ in range(20):\n",
    "    driver.execute_script(\"window.scrollBy(0,1000)\")\n",
    "    time.sleep(5)\n",
    "    for i in variant_tag:\n",
    "        transmission.append((i.text).rsplit(' ',1)[1])\n",
    "len(model)"
   ]
  },
  {
   "cell_type": "code",
   "execution_count": 15,
   "id": "1cf59c84",
   "metadata": {},
   "outputs": [
    {
     "data": {
      "text/plain": [
       "5740"
      ]
     },
     "execution_count": 15,
     "metadata": {},
     "output_type": "execute_result"
    }
   ],
   "source": [
    "price=[]\n",
    "price_tag=driver.find_elements(By.XPATH,'//div[@class=\"_7udZZ\"]/span[1]')\n",
    "for _ in range(20):\n",
    "    driver.execute_script(\"window.scrollBy(0,1000)\")\n",
    "    time.sleep(5)\n",
    "    for i in price_tag:\n",
    "        price.append(i.text)\n",
    "len(price)\n"
   ]
  },
  {
   "cell_type": "code",
   "execution_count": 22,
   "id": "ed63b873",
   "metadata": {},
   "outputs": [
    {
     "data": {
      "text/plain": [
       "5740"
      ]
     },
     "execution_count": 22,
     "metadata": {},
     "output_type": "execute_result"
    }
   ],
   "source": [
    "location=[]\n",
    "for i in range(len(price)):\n",
    "    location.append(\"Delhi NCR\")\n",
    "len(location)"
   ]
  },
  {
   "cell_type": "code",
   "execution_count": 23,
   "id": "86ef8a66",
   "metadata": {},
   "outputs": [],
   "source": [
    "driver.get(\"https://www.cars24.com/buy-used-car?sort=P&storeCityId=5732&pinId=600001\")"
   ]
  },
  {
   "cell_type": "code",
   "execution_count": 32,
   "id": "b97561c8",
   "metadata": {},
   "outputs": [
    {
     "name": "stdout",
     "output_type": "stream",
     "text": [
      "14900 14900 14900\n"
     ]
    }
   ],
   "source": [
    "brand_name=brand_name[:5740]\n",
    "model=model[:5740]\n",
    "year=year[:5740]\n",
    "\n",
    "\n",
    "brand_tag= driver.find_elements(By.CLASS_NAME, \"_3FpCg\")\n",
    "for _ in range(20):\n",
    "    driver.execute_script(\"window.scrollBy(0,1000)\")\n",
    "    time.sleep(5)\n",
    "    for i in brand_tag:\n",
    "        brand_name.append((i.text).split(' ',2)[1])\n",
    "        model.append((i.text).split(' ', 2)[2])\n",
    "        year.append((i.text).split()[0])\n",
    "print(len(brand_name),len(model),len(year))"
   ]
  },
  {
   "cell_type": "code",
   "execution_count": 39,
   "id": "86386e00",
   "metadata": {},
   "outputs": [
    {
     "name": "stdout",
     "output_type": "stream",
     "text": [
      "14900 5740\n"
     ]
    }
   ],
   "source": [
    "variant= variant[:5740]\n",
    "transmission= transmission[:5740]\n",
    "variant_tag=driver.find_elements(By.CLASS_NAME, \"cvakB\")\n",
    "for _ in range(20):\n",
    "    driver.execute_script(\"window.scrollBy(0,1000)\")\n",
    "    time.sleep(5)\n",
    "    for i in variant_tag:\n",
    "        variant.append((i.text).rsplit(' ',1)[0])\n",
    "       \n",
    "print(len(variant), len(transmission))"
   ]
  },
  {
   "cell_type": "code",
   "execution_count": 42,
   "id": "adb363b1",
   "metadata": {},
   "outputs": [
    {
     "data": {
      "text/plain": [
       "14900"
      ]
     },
     "execution_count": 42,
     "metadata": {},
     "output_type": "execute_result"
    }
   ],
   "source": [
    "transmission= transmission[:5740]\n",
    "for _ in range(20):\n",
    "    driver.execute_script(\"window.scrollBy(0,1000)\")\n",
    "    time.sleep(5)\n",
    "    for i in variant_tag: \n",
    "        transmission.append((i.text).rsplit(' ',1)[-1])\n",
    "len(transmission)"
   ]
  },
  {
   "cell_type": "code",
   "execution_count": null,
   "id": "f62786ff",
   "metadata": {},
   "outputs": [],
   "source": []
  },
  {
   "cell_type": "code",
   "execution_count": 36,
   "id": "93e53b1b",
   "metadata": {},
   "outputs": [
    {
     "data": {
      "text/plain": [
       "14900"
      ]
     },
     "execution_count": 36,
     "metadata": {},
     "output_type": "execute_result"
    }
   ],
   "source": [
    "driven_km=driven_km[:5740]\n",
    "mile_tag=driver.find_elements(By.XPATH,'//ul[@class= \"bVR0c\"]/li[1]')\n",
    "for _ in range(20):\n",
    "    driver.execute_script(\"window.scrollBy(0,1000)\")\n",
    "    time.sleep(5)\n",
    "    for i in mile_tag:\n",
    "        driven_km.append(i.text)\n",
    "len(driven_km)"
   ]
  },
  {
   "cell_type": "code",
   "execution_count": 27,
   "id": "1831f17d",
   "metadata": {},
   "outputs": [
    {
     "data": {
      "text/plain": [
       "14900"
      ]
     },
     "execution_count": 27,
     "metadata": {},
     "output_type": "execute_result"
    }
   ],
   "source": [
    "owner_tag=driver.find_elements(By.XPATH,'//ul[@class= \"bVR0c\"]/li[2]')\n",
    "for _ in range(20):\n",
    "    driver.execute_script(\"window.scrollBy(0,1000)\")\n",
    "    time.sleep(5)\n",
    "    for i in owner_tag:\n",
    "        owner.append(i.text)\n",
    "len(owner)"
   ]
  },
  {
   "cell_type": "code",
   "execution_count": 28,
   "id": "a0abcc11",
   "metadata": {},
   "outputs": [
    {
     "data": {
      "text/plain": [
       "14900"
      ]
     },
     "execution_count": 28,
     "metadata": {},
     "output_type": "execute_result"
    }
   ],
   "source": [
    "fuel_tag=driver.find_elements(By.XPATH,'//ul[@class= \"bVR0c\"]/li[3]')\n",
    "for _ in range(20):\n",
    "    driver.execute_script(\"window.scrollBy(0,1000)\")\n",
    "    time.sleep(5)\n",
    "    for i in fuel_tag:\n",
    "        fuel.append(i.text)\n",
    "len(fuel)"
   ]
  },
  {
   "cell_type": "code",
   "execution_count": 29,
   "id": "d81e1853",
   "metadata": {},
   "outputs": [
    {
     "data": {
      "text/plain": [
       "14900"
      ]
     },
     "execution_count": 29,
     "metadata": {},
     "output_type": "execute_result"
    }
   ],
   "source": [
    "price_tag=driver.find_elements(By.XPATH,'//div[@class=\"_7udZZ\"]/span[1]')\n",
    "for _ in range(20):\n",
    "    driver.execute_script(\"window.scrollBy(0,1000)\")\n",
    "    time.sleep(5)\n",
    "    for i in price_tag:\n",
    "        price.append(i.text)\n",
    "        location.append(\"chennai\")\n",
    "len(price)"
   ]
  },
  {
   "cell_type": "code",
   "execution_count": 38,
   "id": "9c22dcc8",
   "metadata": {},
   "outputs": [
    {
     "data": {
      "text/plain": [
       "14900"
      ]
     },
     "execution_count": 38,
     "metadata": {},
     "output_type": "execute_result"
    }
   ],
   "source": [
    "len(location)"
   ]
  },
  {
   "cell_type": "code",
   "execution_count": null,
   "id": "ef32d292",
   "metadata": {},
   "outputs": [],
   "source": []
  },
  {
   "cell_type": "code",
   "execution_count": null,
   "id": "24ddbea6",
   "metadata": {},
   "outputs": [],
   "source": []
  },
  {
   "cell_type": "code",
   "execution_count": 43,
   "id": "5a624f05",
   "metadata": {},
   "outputs": [
    {
     "data": {
      "text/html": [
       "<div>\n",
       "<style scoped>\n",
       "    .dataframe tbody tr th:only-of-type {\n",
       "        vertical-align: middle;\n",
       "    }\n",
       "\n",
       "    .dataframe tbody tr th {\n",
       "        vertical-align: top;\n",
       "    }\n",
       "\n",
       "    .dataframe thead th {\n",
       "        text-align: right;\n",
       "    }\n",
       "</style>\n",
       "<table border=\"1\" class=\"dataframe\">\n",
       "  <thead>\n",
       "    <tr style=\"text-align: right;\">\n",
       "      <th></th>\n",
       "      <th>Brand</th>\n",
       "      <th>Model</th>\n",
       "      <th>Variant</th>\n",
       "      <th>Transmission</th>\n",
       "      <th>Manufacturing Year</th>\n",
       "      <th>Driven Kilometers</th>\n",
       "      <th>Owners</th>\n",
       "      <th>Fuel</th>\n",
       "      <th>Location</th>\n",
       "      <th>Price</th>\n",
       "    </tr>\n",
       "  </thead>\n",
       "  <tbody>\n",
       "    <tr>\n",
       "      <th>0</th>\n",
       "      <td>Renault</td>\n",
       "      <td>Kwid</td>\n",
       "      <td>RXT</td>\n",
       "      <td>Manual</td>\n",
       "      <td>2016</td>\n",
       "      <td>21,273 km</td>\n",
       "      <td>1st Owner</td>\n",
       "      <td>Petrol</td>\n",
       "      <td>Delhi NCR</td>\n",
       "      <td>₹2,74,399</td>\n",
       "    </tr>\n",
       "    <tr>\n",
       "      <th>1</th>\n",
       "      <td>KIA</td>\n",
       "      <td>SELTOS</td>\n",
       "      <td>HTK 1.5 PETROL</td>\n",
       "      <td>Manual</td>\n",
       "      <td>2019</td>\n",
       "      <td>9,918 km</td>\n",
       "      <td>1st Owner</td>\n",
       "      <td>Petrol</td>\n",
       "      <td>Delhi NCR</td>\n",
       "      <td>₹11,51,399</td>\n",
       "    </tr>\n",
       "    <tr>\n",
       "      <th>2</th>\n",
       "      <td>KIA</td>\n",
       "      <td>SELTOS</td>\n",
       "      <td>GTX + AT PETROL</td>\n",
       "      <td>Automatic</td>\n",
       "      <td>2020</td>\n",
       "      <td>8,241 km</td>\n",
       "      <td>1st Owner</td>\n",
       "      <td>Petrol</td>\n",
       "      <td>Delhi NCR</td>\n",
       "      <td>₹18,95,199</td>\n",
       "    </tr>\n",
       "    <tr>\n",
       "      <th>3</th>\n",
       "      <td>Maruti</td>\n",
       "      <td>Swift</td>\n",
       "      <td>LXI</td>\n",
       "      <td>Manual</td>\n",
       "      <td>2019</td>\n",
       "      <td>27,659 km</td>\n",
       "      <td>1st Owner</td>\n",
       "      <td>Petrol</td>\n",
       "      <td>Delhi NCR</td>\n",
       "      <td>₹5,33,399</td>\n",
       "    </tr>\n",
       "    <tr>\n",
       "      <th>4</th>\n",
       "      <td>Maruti</td>\n",
       "      <td>Swift</td>\n",
       "      <td>LXI</td>\n",
       "      <td>Manual</td>\n",
       "      <td>2020</td>\n",
       "      <td>19,919 km</td>\n",
       "      <td>1st Owner</td>\n",
       "      <td>Petrol</td>\n",
       "      <td>Delhi NCR</td>\n",
       "      <td>₹5,66,799</td>\n",
       "    </tr>\n",
       "    <tr>\n",
       "      <th>...</th>\n",
       "      <td>...</td>\n",
       "      <td>...</td>\n",
       "      <td>...</td>\n",
       "      <td>...</td>\n",
       "      <td>...</td>\n",
       "      <td>...</td>\n",
       "      <td>...</td>\n",
       "      <td>...</td>\n",
       "      <td>...</td>\n",
       "      <td>...</td>\n",
       "    </tr>\n",
       "    <tr>\n",
       "      <th>14895</th>\n",
       "      <td>Maruti</td>\n",
       "      <td>S PRESSO</td>\n",
       "      <td>VXI AGS</td>\n",
       "      <td>Automatic</td>\n",
       "      <td>2020</td>\n",
       "      <td>17,596 km</td>\n",
       "      <td>1st Owner</td>\n",
       "      <td>Petrol</td>\n",
       "      <td>chennai</td>\n",
       "      <td>₹5,04,899</td>\n",
       "    </tr>\n",
       "    <tr>\n",
       "      <th>14896</th>\n",
       "      <td>Maruti</td>\n",
       "      <td>Baleno</td>\n",
       "      <td>ALPHA 1.2 K12</td>\n",
       "      <td>Manual</td>\n",
       "      <td>2017</td>\n",
       "      <td>59,452 km</td>\n",
       "      <td>1st Owner</td>\n",
       "      <td>Petrol</td>\n",
       "      <td>chennai</td>\n",
       "      <td>₹7,17,699</td>\n",
       "    </tr>\n",
       "    <tr>\n",
       "      <th>14897</th>\n",
       "      <td>MG</td>\n",
       "      <td>HECTOR PLUS</td>\n",
       "      <td>SHARP</td>\n",
       "      <td>DCT</td>\n",
       "      <td>2021</td>\n",
       "      <td>14,444 km</td>\n",
       "      <td>1st Owner</td>\n",
       "      <td>Petrol</td>\n",
       "      <td>chennai</td>\n",
       "      <td>₹20,14,899</td>\n",
       "    </tr>\n",
       "    <tr>\n",
       "      <th>14898</th>\n",
       "      <td>Hyundai</td>\n",
       "      <td>Eon</td>\n",
       "      <td>ERA PLUS (O)</td>\n",
       "      <td>Manual</td>\n",
       "      <td>2017</td>\n",
       "      <td>48,109 km</td>\n",
       "      <td>2nd Owner</td>\n",
       "      <td>Petrol</td>\n",
       "      <td>chennai</td>\n",
       "      <td>₹3,57,899</td>\n",
       "    </tr>\n",
       "    <tr>\n",
       "      <th>14899</th>\n",
       "      <td>Maruti</td>\n",
       "      <td>Celerio</td>\n",
       "      <td>ZXI OPT AMT</td>\n",
       "      <td>Automatic</td>\n",
       "      <td>2017</td>\n",
       "      <td>9,945 km</td>\n",
       "      <td>1st Owner</td>\n",
       "      <td>Petrol</td>\n",
       "      <td>chennai</td>\n",
       "      <td>₹4,55,299</td>\n",
       "    </tr>\n",
       "  </tbody>\n",
       "</table>\n",
       "<p>14900 rows × 10 columns</p>\n",
       "</div>"
      ],
      "text/plain": [
       "         Brand        Model          Variant Transmission Manufacturing Year  \\\n",
       "0      Renault         Kwid              RXT       Manual               2016   \n",
       "1          KIA       SELTOS   HTK 1.5 PETROL       Manual               2019   \n",
       "2          KIA       SELTOS  GTX + AT PETROL    Automatic               2020   \n",
       "3       Maruti        Swift              LXI       Manual               2019   \n",
       "4       Maruti        Swift              LXI       Manual               2020   \n",
       "...        ...          ...              ...          ...                ...   \n",
       "14895   Maruti     S PRESSO          VXI AGS    Automatic               2020   \n",
       "14896   Maruti       Baleno    ALPHA 1.2 K12       Manual               2017   \n",
       "14897       MG  HECTOR PLUS            SHARP          DCT               2021   \n",
       "14898  Hyundai          Eon     ERA PLUS (O)       Manual               2017   \n",
       "14899   Maruti      Celerio      ZXI OPT AMT    Automatic               2017   \n",
       "\n",
       "      Driven Kilometers     Owners    Fuel   Location       Price  \n",
       "0             21,273 km  1st Owner  Petrol  Delhi NCR   ₹2,74,399  \n",
       "1              9,918 km  1st Owner  Petrol  Delhi NCR  ₹11,51,399  \n",
       "2              8,241 km  1st Owner  Petrol  Delhi NCR  ₹18,95,199  \n",
       "3             27,659 km  1st Owner  Petrol  Delhi NCR   ₹5,33,399  \n",
       "4             19,919 km  1st Owner  Petrol  Delhi NCR   ₹5,66,799  \n",
       "...                 ...        ...     ...        ...         ...  \n",
       "14895         17,596 km  1st Owner  Petrol    chennai   ₹5,04,899  \n",
       "14896         59,452 km  1st Owner  Petrol    chennai   ₹7,17,699  \n",
       "14897         14,444 km  1st Owner  Petrol    chennai  ₹20,14,899  \n",
       "14898         48,109 km  2nd Owner  Petrol    chennai   ₹3,57,899  \n",
       "14899          9,945 km  1st Owner  Petrol    chennai   ₹4,55,299  \n",
       "\n",
       "[14900 rows x 10 columns]"
      ]
     },
     "execution_count": 43,
     "metadata": {},
     "output_type": "execute_result"
    }
   ],
   "source": [
    "# Forming dataFrame\n",
    "car_data= pd.DataFrame({'Brand': brand_name,'Model':model , 'Variant':variant,'Transmission':transmission,\n",
    "                        'Manufacturing Year': year,'Driven Kilometers': driven_km,\n",
    "                        'Owners':owner, 'Fuel': fuel, 'Location': location, 'Price':price})\n",
    "car_data"
   ]
  },
  {
   "cell_type": "code",
   "execution_count": 44,
   "id": "9f3de9cd",
   "metadata": {},
   "outputs": [],
   "source": [
    "# storing into Excel file\n",
    "car_data.to_excel(\" usedcar_dataset.xlsx\")"
   ]
  },
  {
   "cell_type": "code",
   "execution_count": 45,
   "id": "d0769bb8",
   "metadata": {},
   "outputs": [],
   "source": [
    "driver.close()"
   ]
  },
  {
   "cell_type": "code",
   "execution_count": null,
   "id": "01949b14",
   "metadata": {},
   "outputs": [],
   "source": []
  }
 ],
 "metadata": {
  "kernelspec": {
   "display_name": "Python 3 (ipykernel)",
   "language": "python",
   "name": "python3"
  },
  "language_info": {
   "codemirror_mode": {
    "name": "ipython",
    "version": 3
   },
   "file_extension": ".py",
   "mimetype": "text/x-python",
   "name": "python",
   "nbconvert_exporter": "python",
   "pygments_lexer": "ipython3",
   "version": "3.9.12"
  }
 },
 "nbformat": 4,
 "nbformat_minor": 5
}
